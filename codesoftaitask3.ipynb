{
  "nbformat": 4,
  "nbformat_minor": 0,
  "metadata": {
    "colab": {
      "provenance": [],
      "authorship_tag": "ABX9TyPwSx/WFNw4IZGn8nskd2Xv",
      "include_colab_link": true
    },
    "kernelspec": {
      "name": "python3",
      "display_name": "Python 3"
    },
    "language_info": {
      "name": "python"
    }
  },
  "cells": [
    {
      "cell_type": "markdown",
      "metadata": {
        "id": "view-in-github",
        "colab_type": "text"
      },
      "source": [
        "<a href=\"https://colab.research.google.com/github/muthugurugowsalya19/codesoft_taskai_1/blob/main/codesoftaitask3.ipynb\" target=\"_parent\"><img src=\"https://colab.research.google.com/assets/colab-badge.svg\" alt=\"Open In Colab\"/></a>"
      ]
    },
    {
      "cell_type": "code",
      "source": [
        "movies = {\n",
        "    'Movie1': {'genre': ['Action', 'Adventure'], 'year': 2005, 'rating': 4.5},\n",
        "    'Movie2': {'genre': ['Drama', 'Romance'], 'year': 2010, 'rating': 4.2},\n",
        "    'Movie3': {'genre': ['Comedy', 'Romance'], 'year': 2008, 'rating': 3.8},\n",
        "    'Movie4': {'genre': ['Action', 'Comedy'], 'year': 2006, 'rating': 4.1},\n",
        "    'Movie5': {'genre': ['Drama', 'Mystery'], 'year': 2009, 'rating': 4.3}\n",
        "}\n",
        "def recommend_movies(user_preferences):\n",
        "    recommended_movies = []\n",
        "    for movie, features in movies.items():\n",
        "        # Calculate similarity score based on genre similarity\n",
        "        genre_similarity = len(set(features['genre']) & set(user_preferences['genre']))\n",
        "        # Calculate similarity score based on year difference\n",
        "        year_similarity = 1 - abs(features['year'] - user_preferences['year']) / 100\n",
        "        # Calculate similarity score based on rating\n",
        "        rating_similarity = min(features['rating'], user_preferences['rating']) / max(features['rating'], user_preferences['rating'])\n",
        "        # Calculate total similarity score\n",
        "        total_similarity = (genre_similarity + year_similarity + rating_similarity) / 3\n",
        "        recommended_movies.append((movie, total_similarity))\n",
        "    recommended_movies = sorted(recommended_movies, key=lambda x: x[1], reverse=True)\n",
        "    return recommended_movies[:3]  # Return top 3 recommended movies\n",
        "\n",
        "\n",
        "user_preferences = {'genre': ['Action', 'Adventure'], 'year': 2007, 'rating': 4.0}\n",
        "recommended_movies = recommend_movies(user_preferences)\n",
        "print(\"Recommended movies for you:\")\n",
        "for movie, similarity in recommended_movies:\n",
        "    print(\"- {}: Similarity Score {:.2f}\".format(movie, similarity))\n"
      ],
      "metadata": {
        "colab": {
          "base_uri": "https://localhost:8080/"
        },
        "id": "eoMWlyzXlAQr",
        "outputId": "db66a815-8b44-46c0-e321-0049f6350c8c"
      },
      "execution_count": 7,
      "outputs": [
        {
          "output_type": "stream",
          "name": "stdout",
          "text": [
            "Recommended movies for you:\n",
            "- Movie1: Similarity Score 1.29\n",
            "- Movie4: Similarity Score 0.99\n",
            "- Movie3: Similarity Score 0.65\n"
          ]
        }
      ]
    }
  ]
}