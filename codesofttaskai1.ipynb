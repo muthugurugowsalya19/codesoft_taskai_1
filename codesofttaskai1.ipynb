{
  "nbformat": 4,
  "nbformat_minor": 0,
  "metadata": {
    "colab": {
      "provenance": [],
      "authorship_tag": "ABX9TyOPA1r4SoGSm6xyQkWNjbGM",
      "include_colab_link": true
    },
    "kernelspec": {
      "name": "python3",
      "display_name": "Python 3"
    },
    "language_info": {
      "name": "python"
    }
  },
  "cells": [
    {
      "cell_type": "markdown",
      "metadata": {
        "id": "view-in-github",
        "colab_type": "text"
      },
      "source": [
        "<a href=\"https://colab.research.google.com/github/muthugurugowsalya19/codesoft_taskai_1/blob/main/codesofttaskai1.ipynb\" target=\"_parent\"><img src=\"https://colab.research.google.com/assets/colab-badge.svg\" alt=\"Open In Colab\"/></a>"
      ]
    },
    {
      "cell_type": "code",
      "execution_count": 3,
      "metadata": {
        "colab": {
          "base_uri": "https://localhost:8080/"
        },
        "id": "2fS3wRuYXny0",
        "outputId": "dad07308-c5f1-41f6-d2f6-8258a8766f30"
      },
      "outputs": [
        {
          "output_type": "stream",
          "name": "stdout",
          "text": [
            "Welcome! Type 'bye' to exit.\n",
            "You: hi\n",
            "Bot: Hello! How can I assist you today?\n",
            "You: how are you\n",
            "Bot: I'm just a chatbot, but thanks for asking!\n",
            "You: bye\n",
            "Goodbye! Have a great day!\n"
          ]
        }
      ],
      "source": [
        "import re\n",
        "\n",
        "# Define patterns and responses\n",
        "patterns_responses = {\n",
        "    r\"\\bhi\\b|\\bhello\\b\": \"Hello! How can I assist you today?\",\n",
        "    r\"\\bhow are you\\b\": \"I'm just a chatbot, but thanks for asking!\",\n",
        "    r\"\\bbye\\b|\\bgoodbye\\b\": \"Goodbye! Have a great day!\",\n",
        "    r\"\\bmy name is ([a-zA-Z]+)\\b\": \"Nice to meet you, {}!\",\n",
        "    r\"\\bwhat is your name\\b\": \"I'm just a simple chatbot.\",\n",
        "    r\"\\bhow old are you\\b\": \"I don't have an age. I exist in the realm of algorithms!\",\n",
        "    r\"\\b(?:I am|I'm) (\\d{1,3}) (?:years old|years of age)\\b\": \"That's interesting! {} years old.\",\n",
        "    \"default\": \"I'm not sure how to respond to that.\",\n",
        "}\n",
        "\n",
        "# Function to match user input to patterns and return appropriate response\n",
        "def respond_to_input(user_input):\n",
        "    for pattern, response in patterns_responses.items():\n",
        "        match = re.search(pattern, user_input, re.IGNORECASE)\n",
        "        if match:\n",
        "            if \"{}\" in response:\n",
        "                return response.format(*match.groups())\n",
        "            else:\n",
        "                return response\n",
        "    return patterns_responses[\"default\"]\n",
        "\n",
        "# Main function to run the chatbot\n",
        "def main():\n",
        "    print(\"Welcome! Type 'bye' to exit.\")\n",
        "    while True:\n",
        "        user_input = input(\"You: \")\n",
        "        if user_input.lower() == \"bye\":\n",
        "            print(respond_to_input(user_input))\n",
        "            break\n",
        "        else:\n",
        "            print(\"Bot:\", respond_to_input(user_input))\n",
        "\n",
        "# Run the chatbot\n",
        "if __name__ == \"__main__\":\n",
        "    main()\n"
      ]
    }
  ]
}